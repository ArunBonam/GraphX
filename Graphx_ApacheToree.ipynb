{
 "cells": [
  {
   "cell_type": "code",
   "execution_count": 1,
   "metadata": {},
   "outputs": [
    {
     "name": "stdout",
     "output_type": "stream",
     "text": [
      "+---+---+---+\n",
      "| _1| _2| _3|\n",
      "+---+---+---+\n",
      "|  1|  2|  3|\n",
      "|  4|  5|  6|\n",
      "|  6|  7|  8|\n",
      "|  9| 19| 10|\n",
      "+---+---+---+\n",
      "\n"
     ]
    },
    {
     "data": {
      "text/plain": [
       "data = List((1,2,3), (4,5,6), (6,7,8), (9,19,10))\n",
       "ds = [_1: int, _2: int ... 1 more field]\n"
      ]
     },
     "metadata": {},
     "output_type": "display_data"
    },
    {
     "data": {
      "text/plain": [
       "[_1: int, _2: int ... 1 more field]"
      ]
     },
     "execution_count": 1,
     "metadata": {},
     "output_type": "execute_result"
    }
   ],
   "source": [
    "val data = Seq((1,2,3), (4,5,6), (6,7,8), (9,19,10))\n",
    "val ds = spark.createDataset(data)\n",
    "ds.show()\n"
   ]
  },
  {
   "cell_type": "code",
   "execution_count": 2,
   "metadata": {},
   "outputs": [
    {
     "data": {
      "text/plain": [
       "Name: Compile Error\n",
       "Message: <console>:1: error: ';' expected but '.' found.\n",
       "Import org.apache.spark.graphx._\n",
       "          ^\n",
       "\n",
       "StackTrace: "
      ]
     },
     "execution_count": 2,
     "metadata": {},
     "output_type": "execute_result"
    }
   ],
   "source": [
    "Import org.apache.spark.graphx._\n"
   ]
  },
  {
   "cell_type": "code",
   "execution_count": 3,
   "metadata": {},
   "outputs": [
    {
     "data": {
      "text/plain": [
       "Name: Compile Error\n",
       "Message: <console>:28: error: value - is not a member of org.apache.spark.sql.SparkSession\n",
       "       spark-shell\n",
       "            ^\n",
       "<console>:28: error: not found: value shell\n",
       "       spark-shell\n",
       "             ^\n",
       "\n",
       "StackTrace: "
      ]
     },
     "execution_count": 3,
     "metadata": {},
     "output_type": "execute_result"
    }
   ],
   "source": [
    "spark-shell"
   ]
  },
  {
   "cell_type": "code",
   "execution_count": 4,
   "metadata": {},
   "outputs": [
    {
     "data": {
      "text/plain": [
       "Name: Compile Error\n",
       "Message: <console>:27: error: value textfile is not a member of org.apache.spark.SparkContext\n",
       "       val nodes = sc.textfile(\"/Users/arunbonam/Downloads/higgs-social_network.edgelist\")\n",
       "                      ^\n",
       "\n",
       "StackTrace: "
      ]
     },
     "execution_count": 4,
     "metadata": {},
     "output_type": "execute_result"
    }
   ],
   "source": [
    "val nodes = sc.textfile(\"/Users/arunbonam/Downloads/higgs-social_network.edgelist\")"
   ]
  },
  {
   "cell_type": "code",
   "execution_count": 5,
   "metadata": {},
   "outputs": [
    {
     "data": {
      "text/plain": [
       "nodes = /Users/arunbonam/Downloads/higgs-social_network.edgelist MapPartitionsRDD[1] at textFile at <console>:27\n"
      ]
     },
     "metadata": {},
     "output_type": "display_data"
    },
    {
     "data": {
      "text/plain": [
       "/Users/arunbonam/Downloads/higgs-social_network.edgelist MapPartitionsRDD[1] at textFile at <console>:27"
      ]
     },
     "execution_count": 5,
     "metadata": {},
     "output_type": "execute_result"
    }
   ],
   "source": [
    "val nodes = sc.textFile(\"/Users/arunbonam/Downloads/higgs-social_network.edgelist\")"
   ]
  },
  {
   "cell_type": "code",
   "execution_count": 6,
   "metadata": {},
   "outputs": [
    {
     "data": {
      "text/plain": [
       "/Users/arunbonam/Downloads/higgs-social_network.edgelist MapPartitionsRDD[1] at textFile at <console>:27"
      ]
     },
     "execution_count": 6,
     "metadata": {},
     "output_type": "execute_result"
    }
   ],
   "source": [
    "nodes"
   ]
  },
  {
   "cell_type": "code",
   "execution_count": 7,
   "metadata": {},
   "outputs": [
    {
     "name": "stdout",
     "output_type": "stream",
     "text": [
      "/Users/arunbonam/Downloads/higgs-social_network.edgelist MapPartitionsRDD[1] at textFile at <console>:27"
     ]
    }
   ],
   "source": [
    "print(nodes)"
   ]
  },
  {
   "cell_type": "code",
   "execution_count": 8,
   "metadata": {},
   "outputs": [
    {
     "data": {
      "text/plain": [
       "Name: Compile Error\n",
       "Message: <console>:27: error: not found: value GraphLoader\n",
       "       val nodes2= GraphLoader.edgeListFile(sc,\"/Users/arunbonam/Downloads/higgs-social_network.edgelist\")\n",
       "                   ^\n",
       "\n",
       "StackTrace: "
      ]
     },
     "execution_count": 8,
     "metadata": {},
     "output_type": "execute_result"
    }
   ],
   "source": [
    "val nodes2= GraphLoader.edgeListFile(sc,\"/Users/arunbonam/Downloads/higgs-social_network.edgelist\")"
   ]
  },
  {
   "cell_type": "code",
   "execution_count": 9,
   "metadata": {},
   "outputs": [],
   "source": [
    "import org.apache.spark.graphx.GraphLoader"
   ]
  },
  {
   "cell_type": "code",
   "execution_count": 10,
   "metadata": {},
   "outputs": [
    {
     "name": "stdout",
     "output_type": "stream",
     "text": [
      "[Stage 0:=================================================>         (5 + 1) / 6]"
     ]
    },
    {
     "data": {
      "text/plain": [
       "nodes2 = org.apache.spark.graphx.impl.GraphImpl@7f824a4c\n"
      ]
     },
     "metadata": {},
     "output_type": "display_data"
    },
    {
     "data": {
      "text/plain": [
       "org.apache.spark.graphx.impl.GraphImpl@7f824a4c"
      ]
     },
     "execution_count": 10,
     "metadata": {},
     "output_type": "execute_result"
    }
   ],
   "source": [
    "val nodes2= GraphLoader.edgeListFile(sc,\"/Users/arunbonam/Downloads/higgs-social_network.edgelist\")"
   ]
  },
  {
   "cell_type": "code",
   "execution_count": 11,
   "metadata": {},
   "outputs": [
    {
     "data": {
      "text/plain": [
       "org.apache.spark.graphx.impl.GraphImpl@7f824a4c"
      ]
     },
     "execution_count": 11,
     "metadata": {},
     "output_type": "execute_result"
    }
   ],
   "source": [
    "nodes2"
   ]
  },
  {
   "cell_type": "code",
   "execution_count": 12,
   "metadata": {},
   "outputs": [
    {
     "data": {
      "text/plain": [
       "Name: Compile Error\n",
       "Message: <console>:31: error: value collect is not a member of org.apache.spark.graphx.Graph[Int,Int]\n",
       "       println(nodes2.collect())\n",
       "                      ^\n",
       "\n",
       "StackTrace: "
      ]
     },
     "execution_count": 12,
     "metadata": {},
     "output_type": "execute_result"
    }
   ],
   "source": [
    "println(nodes2.collect())"
   ]
  },
  {
   "cell_type": "code",
   "execution_count": 13,
   "metadata": {},
   "outputs": [
    {
     "data": {
      "text/plain": [
       "Name: Compile Error\n",
       "Message: <console>:30: error: not found: type RDD\n",
       "       val edges: RDD[(VertexId, VertexId)] = nodes2.map(line => line.split(\" \"))\n",
       "                  ^\n",
       "<console>:30: error: value map is not a member of org.apache.spark.graphx.Graph[Int,Int]\n",
       "       val edges: RDD[(VertexId, VertexId)] = nodes2.map(line => line.split(\" \"))\n",
       "                                                     ^\n",
       "<console>:32: error: not found: value MurmurHash\n",
       "               (MurmurHash.stringHash(line(0).toString), MurmurHash.stringHash(line(1).toString)))\n",
       "                ^\n",
       "<console>:32: error: not found: value MurmurHash\n",
       "               (MurmurHash.stringHash(line(0).toString), MurmurHash.stringHash(line(1).toString)))\n",
       "                                                         ^\n",
       "\n",
       "StackTrace: "
      ]
     },
     "execution_count": 13,
     "metadata": {},
     "output_type": "execute_result"
    }
   ],
   "source": [
    "val edges: RDD[(VertexId, VertexId)] = nodes2.map(line => line.split(\" \"))\n",
    "      .map(line =>\n",
    "        (MurmurHash.stringHash(line(0).toString), MurmurHash.stringHash(line(1).toString)))\n"
   ]
  },
  {
   "cell_type": "code",
   "execution_count": 62,
   "metadata": {},
   "outputs": [
    {
     "name": "stdout",
     "output_type": "stream",
     "text": [
      "1 2\n",
      "1 3\n",
      "1 4\n",
      "1 5\n",
      "1 6\n",
      "1 7\n",
      "1 8\n",
      "1 9\n",
      "1 10\n",
      "1 11\n",
      "1 12\n",
      "1 13\n",
      "1 14\n",
      "1 15\n",
      "1 16\n",
      "1 17\n",
      "1 18\n",
      "1 19\n",
      "1 20\n",
      "1 21\n",
      "1 22\n",
      "1 23\n",
      "24 25\n",
      "24 26\n",
      "24 27\n",
      "24 28\n",
      "24 29\n",
      "24 30\n",
      "24 31\n",
      "24 32\n",
      "24 33\n",
      "24 34\n",
      "24 35\n",
      "24 36\n",
      "24 37\n",
      "24 38\n",
      "24 39\n",
      "24 40\n",
      "24 41\n",
      "24 8\n",
      "24 42\n",
      "24 43\n",
      "24 44\n",
      "24 45\n",
      "24 46\n",
      "24 47\n",
      "24 48\n",
      "24 49\n"
     ]
    },
    {
     "data": {
      "text/plain": [
       "fileRdd = /Users/arunbonam/Downloads/sample12.txt MapPartitionsRDD[71] at textFile at <console>:33\n"
      ]
     },
     "metadata": {},
     "output_type": "display_data"
    },
    {
     "data": {
      "text/plain": [
       "/Users/arunbonam/Downloads/sample12.txt MapPartitionsRDD[71] at textFile at <console>:33"
      ]
     },
     "execution_count": 62,
     "metadata": {},
     "output_type": "execute_result"
    }
   ],
   "source": [
    "#####################STARTS HERE#####################\n",
    "val fileRdd = sc.textFile(\"/Users/arunbonam/Downloads/sample12.txt\")\n",
    "file.collect.foreach(println)"
   ]
  },
  {
   "cell_type": "code",
   "execution_count": 84,
   "metadata": {},
   "outputs": [
    {
     "data": {
      "text/plain": [
       "edges = MapPartitionsRDD[104] at map at <console>:43\n"
      ]
     },
     "metadata": {},
     "output_type": "display_data"
    },
    {
     "data": {
      "text/plain": [
       "MapPartitionsRDD[104] at map at <console>:43"
      ]
     },
     "execution_count": 84,
     "metadata": {},
     "output_type": "execute_result"
    }
   ],
   "source": [
    "import scala.util.MurmurHash\n",
    "import org.apache.spark.graphx.Graph\n",
    "import org.apache.spark.rdd.RDD\n",
    "import org.apache.spark.graphx.VertexId\n",
    "\n",
    "val edges: RDD[(VertexId, VertexId)] = file.map(line => line.split(\" \"))\n",
    "      .map(line =>\n",
    "        ((line(0).toInt),(line(1).toInt)))"
   ]
  },
  {
   "cell_type": "code",
   "execution_count": 85,
   "metadata": {},
   "outputs": [
    {
     "name": "stdout",
     "output_type": "stream",
     "text": [
      "(1,2)\n",
      "(1,3)\n",
      "(1,4)\n",
      "(1,5)\n",
      "(1,6)\n",
      "(1,7)\n",
      "(1,8)\n",
      "(1,9)\n",
      "(1,10)\n",
      "(1,11)\n",
      "(1,12)\n",
      "(1,13)\n",
      "(1,14)\n",
      "(1,15)\n",
      "(1,16)\n",
      "(1,17)\n",
      "(1,18)\n",
      "(1,19)\n",
      "(1,20)\n",
      "(1,21)\n",
      "(1,22)\n",
      "(1,23)\n",
      "(24,25)\n",
      "(24,26)\n",
      "(24,27)\n",
      "(24,28)\n",
      "(24,29)\n",
      "(24,30)\n",
      "(24,31)\n",
      "(24,32)\n",
      "(24,33)\n",
      "(24,34)\n",
      "(24,35)\n",
      "(24,36)\n",
      "(24,37)\n",
      "(24,38)\n",
      "(24,39)\n",
      "(24,40)\n",
      "(24,41)\n",
      "(24,8)\n",
      "(24,42)\n",
      "(24,43)\n",
      "(24,44)\n",
      "(24,45)\n",
      "(24,46)\n",
      "(24,47)\n",
      "(24,48)\n",
      "(24,49)\n"
     ]
    }
   ],
   "source": [
    "edges.collect.foreach(println)"
   ]
  },
  {
   "cell_type": "code",
   "execution_count": 90,
   "metadata": {},
   "outputs": [
    {
     "data": {
      "text/plain": [
       "graph = org.apache.spark.graphx.impl.GraphImpl@6642d3fc\n"
      ]
     },
     "metadata": {},
     "output_type": "display_data"
    },
    {
     "data": {
      "text/plain": [
       "org.apache.spark.graphx.impl.GraphImpl@6642d3fc"
      ]
     },
     "execution_count": 90,
     "metadata": {},
     "output_type": "execute_result"
    }
   ],
   "source": [
    "val graph=Graph.fromEdgeTuples(edgesRDD,null)"
   ]
  },
  {
   "cell_type": "code",
   "execution_count": 91,
   "metadata": {},
   "outputs": [
    {
     "name": "stdout",
     "output_type": "stream",
     "text": [
      "((-1200748105,null),(-2019715763,null),1)\n",
      "((-1200748105,null),(-2012789496,null),1)\n",
      "((-1200748105,null),(-1948861840,null),1)\n",
      "((-1200748105,null),(-1932539065,null),1)\n",
      "((-1200748105,null),(-1772775750,null),1)\n",
      "((-1200748105,null),(-1637859831,null),1)\n",
      "((-1200748105,null),(-1572201995,null),1)\n",
      "((-1200748105,null),(-1221891781,null),1)\n",
      "((-1200748105,null),(-973051564,null),1)\n",
      "((-1200748105,null),(-901891909,null),1)\n",
      "((-1200748105,null),(-539566225,null),1)\n",
      "((-1200748105,null),(-260624914,null),1)\n",
      "((-1200748105,null),(-167241737,null),1)\n",
      "((-1200748105,null),(108153722,null),1)\n",
      "((-1200748105,null),(168623864,null),1)\n",
      "((-1200748105,null),(372479709,null),1)\n",
      "((-1200748105,null),(675076006,null),1)\n",
      "((-1200748105,null),(1061050587,null),1)\n",
      "((-1200748105,null),(1420605630,null),1)\n",
      "((-1200748105,null),(1748269083,null),1)\n",
      "((-1200748105,null),(1749592683,null),1)\n",
      "((-1200748105,null),(1873289548,null),1)\n",
      "((787401148,null),(-992968209,null),1)\n",
      "((787401148,null),(-960180120,null),1)\n",
      "((787401148,null),(-922370757,null),1)\n",
      "((787401148,null),(595162665,null),1)\n",
      "((787401148,null),(1828363064,null),1)\n",
      "((787401148,null),(-2110705834,null),1)\n",
      "((787401148,null),(-2002161144,null),1)\n",
      "((787401148,null),(-1745210956,null),1)\n",
      "((787401148,null),(-1447521537,null),1)\n",
      "((787401148,null),(-1384036441,null),1)\n",
      "((787401148,null),(-1165479618,null),1)\n",
      "((787401148,null),(-1144576392,null),1)\n",
      "((787401148,null),(-690245706,null),1)\n",
      "((787401148,null),(-320024026,null),1)\n",
      "((787401148,null),(-297765050,null),1)\n",
      "((787401148,null),(235341391,null),1)\n",
      "((787401148,null),(279895313,null),1)\n",
      "((787401148,null),(330383690,null),1)\n",
      "((787401148,null),(424950965,null),1)\n",
      "((787401148,null),(585553586,null),1)\n",
      "((787401148,null),(817879309,null),1)\n",
      "((787401148,null),(1001689855,null),1)\n",
      "((787401148,null),(1209821174,null),1)\n",
      "((787401148,null),(1420605630,null),1)\n",
      "((787401148,null),(1854295379,null),1)\n",
      "((787401148,null),(2056298028,null),1)\n"
     ]
    }
   ],
   "source": [
    "graph.triplets.collect.foreach(println)"
   ]
  },
  {
   "cell_type": "code",
   "execution_count": 92,
   "metadata": {},
   "outputs": [
    {
     "name": "stdout",
     "output_type": "stream",
     "text": [
      "(1420605630,null)\n",
      "(-1221891781,null)\n",
      "(1873289548,null)\n",
      "(1209821174,null)\n",
      "(-1200748105,null)\n",
      "(-2019715763,null)\n",
      "(675076006,null)\n",
      "(787401148,null)\n",
      "(108153722,null)\n",
      "(2056298028,null)\n",
      "(-1637859831,null)\n",
      "(330383690,null)\n",
      "(585553586,null)\n",
      "(1828363064,null)\n",
      "(-901891909,null)\n",
      "(-539566225,null)\n",
      "(-1447521537,null)\n",
      "(-1932539065,null)\n",
      "(-1384036441,null)\n",
      "(-992968209,null)\n",
      "(-167241737,null)\n",
      "(-922370757,null)\n",
      "(168623864,null)\n",
      "(-1572201995,null)\n",
      "(424950965,null)\n",
      "(-960180120,null)\n",
      "(-1165479618,null)\n",
      "(-297765050,null)\n",
      "(279895313,null)\n",
      "(-260624914,null)\n",
      "(-2012789496,null)\n",
      "(1061050587,null)\n",
      "(-690245706,null)\n",
      "(-320024026,null)\n",
      "(817879309,null)\n",
      "(-1144576392,null)\n",
      "(372479709,null)\n",
      "(1749592683,null)\n",
      "(1854295379,null)\n",
      "(235341391,null)\n",
      "(-1772775750,null)\n",
      "(-2002161144,null)\n",
      "(-973051564,null)\n",
      "(1748269083,null)\n",
      "(-2110705834,null)\n",
      "(-1745210956,null)\n",
      "(1001689855,null)\n",
      "(-1948861840,null)\n",
      "(595162665,null)\n"
     ]
    }
   ],
   "source": [
    "graph.vertices.collect.foreach(println)"
   ]
  },
  {
   "cell_type": "code",
   "execution_count": 93,
   "metadata": {},
   "outputs": [
    {
     "name": "stdout",
     "output_type": "stream",
     "text": [
      "Edge(-1200748105,-2019715763,1)\n",
      "Edge(-1200748105,-2012789496,1)\n",
      "Edge(-1200748105,-1948861840,1)\n",
      "Edge(-1200748105,-1932539065,1)\n",
      "Edge(-1200748105,-1772775750,1)\n",
      "Edge(-1200748105,-1637859831,1)\n",
      "Edge(-1200748105,-1572201995,1)\n",
      "Edge(-1200748105,-1221891781,1)\n",
      "Edge(-1200748105,-973051564,1)\n",
      "Edge(-1200748105,-901891909,1)\n",
      "Edge(-1200748105,-539566225,1)\n",
      "Edge(-1200748105,-260624914,1)\n",
      "Edge(-1200748105,-167241737,1)\n",
      "Edge(-1200748105,108153722,1)\n",
      "Edge(-1200748105,168623864,1)\n",
      "Edge(-1200748105,372479709,1)\n",
      "Edge(-1200748105,675076006,1)\n",
      "Edge(-1200748105,1061050587,1)\n",
      "Edge(-1200748105,1420605630,1)\n",
      "Edge(-1200748105,1748269083,1)\n",
      "Edge(-1200748105,1749592683,1)\n",
      "Edge(-1200748105,1873289548,1)\n",
      "Edge(787401148,-992968209,1)\n",
      "Edge(787401148,-960180120,1)\n",
      "Edge(787401148,-922370757,1)\n",
      "Edge(787401148,595162665,1)\n",
      "Edge(787401148,1828363064,1)\n",
      "Edge(787401148,-2110705834,1)\n",
      "Edge(787401148,-2002161144,1)\n",
      "Edge(787401148,-1745210956,1)\n",
      "Edge(787401148,-1447521537,1)\n",
      "Edge(787401148,-1384036441,1)\n",
      "Edge(787401148,-1165479618,1)\n",
      "Edge(787401148,-1144576392,1)\n",
      "Edge(787401148,-690245706,1)\n",
      "Edge(787401148,-320024026,1)\n",
      "Edge(787401148,-297765050,1)\n",
      "Edge(787401148,235341391,1)\n",
      "Edge(787401148,279895313,1)\n",
      "Edge(787401148,330383690,1)\n",
      "Edge(787401148,424950965,1)\n",
      "Edge(787401148,585553586,1)\n",
      "Edge(787401148,817879309,1)\n",
      "Edge(787401148,1001689855,1)\n",
      "Edge(787401148,1209821174,1)\n",
      "Edge(787401148,1420605630,1)\n",
      "Edge(787401148,1854295379,1)\n",
      "Edge(787401148,2056298028,1)\n"
     ]
    }
   ],
   "source": [
    "graph.edges.collect.foreach(println)"
   ]
  },
  {
   "cell_type": "code",
   "execution_count": 94,
   "metadata": {},
   "outputs": [
    {
     "data": {
      "text/plain": [
       "i = VertexRDDImpl[139] at RDD at VertexRDD.scala:57\n"
      ]
     },
     "metadata": {},
     "output_type": "display_data"
    },
    {
     "data": {
      "text/plain": [
       "VertexRDDImpl[139] at RDD at VertexRDD.scala:57"
      ]
     },
     "execution_count": 94,
     "metadata": {},
     "output_type": "execute_result"
    }
   ],
   "source": [
    "val i = graph.inDegrees"
   ]
  },
  {
   "cell_type": "code",
   "execution_count": 95,
   "metadata": {},
   "outputs": [
    {
     "name": "stdout",
     "output_type": "stream",
     "text": [
      "VertexRDDImpl[139] at RDD at VertexRDD.scala:57"
     ]
    }
   ],
   "source": [
    "print(i)"
   ]
  },
  {
   "cell_type": "code",
   "execution_count": 96,
   "metadata": {},
   "outputs": [
    {
     "name": "stdout",
     "output_type": "stream",
     "text": [
      "(1420605630,2)\n",
      "(-1221891781,1)\n",
      "(1873289548,1)\n",
      "(1209821174,1)\n",
      "(-2019715763,1)\n",
      "(675076006,1)\n",
      "(108153722,1)\n",
      "(2056298028,1)\n",
      "(-1637859831,1)\n",
      "(330383690,1)\n",
      "(585553586,1)\n",
      "(1828363064,1)\n",
      "(-901891909,1)\n",
      "(-539566225,1)\n",
      "(-1447521537,1)\n",
      "(-1932539065,1)\n",
      "(-1384036441,1)\n",
      "(-992968209,1)\n",
      "(-167241737,1)\n",
      "(-922370757,1)\n",
      "(168623864,1)\n",
      "(-1572201995,1)\n",
      "(424950965,1)\n",
      "(-960180120,1)\n",
      "(-1165479618,1)\n",
      "(-297765050,1)\n",
      "(279895313,1)\n",
      "(-260624914,1)\n",
      "(-2012789496,1)\n",
      "(1061050587,1)\n",
      "(-690245706,1)\n",
      "(-320024026,1)\n",
      "(817879309,1)\n",
      "(-1144576392,1)\n",
      "(372479709,1)\n",
      "(1749592683,1)\n",
      "(1854295379,1)\n",
      "(235341391,1)\n",
      "(-1772775750,1)\n",
      "(-2002161144,1)\n",
      "(-973051564,1)\n",
      "(1748269083,1)\n",
      "(-2110705834,1)\n",
      "(-1745210956,1)\n",
      "(1001689855,1)\n",
      "(-1948861840,1)\n",
      "(595162665,1)\n"
     ]
    }
   ],
   "source": [
    "i.collect.foreach(println)"
   ]
  },
  {
   "cell_type": "code",
   "execution_count": 97,
   "metadata": {},
   "outputs": [
    {
     "data": {
      "text/plain": [
       "numNodes = 49\n"
      ]
     },
     "metadata": {},
     "output_type": "display_data"
    },
    {
     "data": {
      "text/plain": [
       "49"
      ]
     },
     "execution_count": 97,
     "metadata": {},
     "output_type": "execute_result"
    }
   ],
   "source": [
    "val numNodes =graph.numVertices"
   ]
  },
  {
   "cell_type": "code",
   "execution_count": 98,
   "metadata": {},
   "outputs": [
    {
     "data": {
      "text/plain": [
       "PairReverse = MapPartitionsRDD[141] at map at <console>:47\n"
      ]
     },
     "metadata": {},
     "output_type": "display_data"
    },
    {
     "data": {
      "text/plain": [
       "MapPartitionsRDD[141] at map at <console>:47"
      ]
     },
     "execution_count": 98,
     "metadata": {},
     "output_type": "execute_result"
    }
   ],
   "source": [
    "val PairReverse = i.map(X => (X._2,X._1))"
   ]
  },
  {
   "cell_type": "code",
   "execution_count": 72,
   "metadata": {},
   "outputs": [
    {
     "name": "stdout",
     "output_type": "stream",
     "text": [
      "(2,1420605630)\n",
      "(1,-1221891781)\n",
      "(1,1873289548)\n",
      "(1,1209821174)\n",
      "(1,-2019715763)\n",
      "(1,675076006)\n",
      "(1,108153722)\n",
      "(1,2056298028)\n",
      "(1,-1637859831)\n",
      "(1,330383690)\n",
      "(1,585553586)\n",
      "(1,1828363064)\n",
      "(1,-901891909)\n",
      "(1,-539566225)\n",
      "(1,-1447521537)\n",
      "(1,-1932539065)\n",
      "(1,-1384036441)\n",
      "(1,-992968209)\n",
      "(1,-167241737)\n",
      "(1,-922370757)\n",
      "(1,168623864)\n",
      "(1,-1572201995)\n",
      "(1,424950965)\n",
      "(1,-960180120)\n",
      "(1,-1165479618)\n",
      "(1,-297765050)\n",
      "(1,279895313)\n",
      "(1,-260624914)\n",
      "(1,-2012789496)\n",
      "(1,1061050587)\n",
      "(1,-690245706)\n",
      "(1,-320024026)\n",
      "(1,817879309)\n",
      "(1,-1144576392)\n",
      "(1,372479709)\n",
      "(1,1749592683)\n",
      "(1,1854295379)\n",
      "(1,235341391)\n",
      "(1,-1772775750)\n",
      "(1,-2002161144)\n",
      "(1,-973051564)\n",
      "(1,1748269083)\n",
      "(1,-2110705834)\n",
      "(1,-1745210956)\n",
      "(1,1001689855)\n",
      "(1,-1948861840)\n",
      "(1,595162665)\n"
     ]
    }
   ],
   "source": [
    "PairReverse.collect.foreach(println)"
   ]
  },
  {
   "cell_type": "code",
   "execution_count": 99,
   "metadata": {},
   "outputs": [
    {
     "data": {
      "text/plain": [
       "countMap = Map(2 -> 1, 1 -> 46)\n"
      ]
     },
     "metadata": {},
     "output_type": "display_data"
    },
    {
     "data": {
      "text/plain": [
       "Map(2 -> 1, 1 -> 46)"
      ]
     },
     "execution_count": 99,
     "metadata": {},
     "output_type": "execute_result"
    }
   ],
   "source": [
    "val countMap=PairReverse.countByKey()"
   ]
  },
  {
   "cell_type": "code",
   "execution_count": 21,
   "metadata": {},
   "outputs": [
    {
     "data": {
      "text/plain": [
       "Name: Compile Error\n",
       "Message: <console>:45: error: not found: value X_1\n",
       "       val indgrDist = countRdd.map(X=>(X_1,X_2/numNodes))\n",
       "                                        ^\n",
       "<console>:45: error: not found: value X_2\n",
       "       val indgrDist = countRdd.map(X=>(X_1,X_2/numNodes))\n",
       "                                            ^\n",
       "\n",
       "StackTrace: "
      ]
     },
     "execution_count": 21,
     "metadata": {},
     "output_type": "execute_result"
    }
   ],
   "source": [
    "\n"
   ]
  },
  {
   "cell_type": "code",
   "execution_count": 100,
   "metadata": {},
   "outputs": [
    {
     "data": {
      "text/plain": [
       "countList = List((2,1), (1,46))\n"
      ]
     },
     "metadata": {},
     "output_type": "display_data"
    },
    {
     "data": {
      "text/plain": [
       "List((2,1), (1,46))"
      ]
     },
     "execution_count": 100,
     "metadata": {},
     "output_type": "execute_result"
    }
   ],
   "source": [
    "val countList=countMap.toList"
   ]
  },
  {
   "cell_type": "code",
   "execution_count": 101,
   "metadata": {},
   "outputs": [
    {
     "data": {
      "text/plain": [
       "countRdd = ParallelCollectionRDD[144] at parallelize at <console>:53\n"
      ]
     },
     "metadata": {},
     "output_type": "display_data"
    },
    {
     "data": {
      "text/plain": [
       "ParallelCollectionRDD[144] at parallelize at <console>:53"
      ]
     },
     "execution_count": 101,
     "metadata": {},
     "output_type": "execute_result"
    }
   ],
   "source": [
    "val countRdd =sc.parallelize(countList)"
   ]
  },
  {
   "cell_type": "code",
   "execution_count": 102,
   "metadata": {},
   "outputs": [
    {
     "data": {
      "text/plain": [
       "finalrdd = MapPartitionsRDD[145] at map at <console>:57\n"
      ]
     },
     "metadata": {},
     "output_type": "display_data"
    },
    {
     "data": {
      "text/plain": [
       "MapPartitionsRDD[145] at map at <console>:57"
      ]
     },
     "execution_count": 102,
     "metadata": {},
     "output_type": "execute_result"
    }
   ],
   "source": [
    "val finalrdd =countRdd.map(v=>(v._1,v._2/numNodes.toDouble))"
   ]
  },
  {
   "cell_type": "code",
   "execution_count": 103,
   "metadata": {},
   "outputs": [
    {
     "name": "stdout",
     "output_type": "stream",
     "text": [
      "(2,0.02040816326530612)\n",
      "(1,0.9387755102040817)\n"
     ]
    }
   ],
   "source": [
    "finalrdd.collect.foreach(println)"
   ]
  },
  {
   "cell_type": "code",
   "execution_count": 83,
   "metadata": {},
   "outputs": [],
   "source": [
    "finalrdd.saveAsTextFile(\"/Users/arunbonam/Downloads/dataset2.txt\")"
   ]
  },
  {
   "cell_type": "code",
   "execution_count": 56,
   "metadata": {},
   "outputs": [
    {
     "data": {
      "text/plain": [
       "List((1,2))"
      ]
     },
     "execution_count": 56,
     "metadata": {},
     "output_type": "execute_result"
    }
   ],
   "source": []
  },
  {
   "cell_type": "code",
   "execution_count": null,
   "metadata": {},
   "outputs": [],
   "source": []
  }
 ],
 "metadata": {
  "kernelspec": {
   "display_name": "Apache Toree - Scala",
   "language": "scala",
   "name": "apache_toree_scala"
  },
  "language_info": {
   "codemirror_mode": "text/x-scala",
   "file_extension": ".scala",
   "mimetype": "text/x-scala",
   "name": "scala",
   "pygments_lexer": "scala",
   "version": "2.11.12"
  }
 },
 "nbformat": 4,
 "nbformat_minor": 2
}
